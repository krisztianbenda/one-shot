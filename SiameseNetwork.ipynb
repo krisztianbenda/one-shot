{
 "cells": [
  {
   "cell_type": "markdown",
   "metadata": {},
   "source": [
    "# One-shot Learning Sziami halozattal\n",
    "\n",
    "Az alabbi programot a testverparkepeken vegzett vizsgalataimhoz keszitettem, melynek reszletes magyarazataul a Szakdolgozatom szolgal. A program csak a szukseges hattertarra mentett pickle objektumokkal nyer ertelmet, melynek elkeszitesehez a SiblingsDB_Loader.ipynb fajl hasznalhato."
   ]
  },
  {
   "cell_type": "code",
   "execution_count": 1,
   "metadata": {},
   "outputs": [
    {
     "name": "stderr",
     "output_type": "stream",
     "text": [
      "Using TensorFlow backend.\n"
     ]
    }
   ],
   "source": [
    "import os\n",
    "import dill as pickle\n",
    "import matplotlib.pyplot as plt\n",
    "from sklearn.utils import shuffle\n",
    "import numpy.random as rng\n",
    "import numpy as np\n",
    "from keras.layers import Input, Conv2D, Lambda, merge, Dense, Flatten,MaxPooling2D, Dropout\n",
    "from keras.models import Model, Sequential\n",
    "from keras.regularizers import l2\n",
    "from keras import backend as K\n",
    "from keras.optimizers import SGD,Adam\n",
    "from keras.losses import binary_crossentropy"
   ]
  },
  {
   "cell_type": "markdown",
   "metadata": {},
   "source": [
    "###### A kovetkezok fuggvenyek segitenek a fajlok es eredmenyek kezeleseben. valamint a halozat inicializalasat konnyitik meg"
   ]
  },
  {
   "cell_type": "code",
   "execution_count": 2,
   "metadata": {},
   "outputs": [],
   "source": [
    "def W_init(shape, name=None):\n",
    "    values = rng.normal(loc=0, scale=1e-2,size=shape)\n",
    "    return K.variable(values, name=name)\n",
    "\n",
    "def b_init(shape, name=None):\n",
    "    values=rng.normal(loc=0.5,scale=1e-2,size=shape)\n",
    "    return K.variable(values,name=name)\n",
    "\n",
    "def save_obj(obj, name):\n",
    "    with open(name + '.pkl', 'wb') as f:\n",
    "        pickle.dump(obj, f, pickle.HIGHEST_PROTOCOL)\n",
    "        \n",
    "def load_obj(name):\n",
    "    with open(name + '.pkl', 'rb') as f:\n",
    "        return pickle.load(f)\n",
    "\n",
    "def load_best_acc(best_acc_str):\n",
    "    with open('accuraciesSIB.txt') as f:\n",
    "        content = f.readlines()\n",
    "    best_acc = 0\n",
    "    for line in content:\n",
    "        if line.find(best_acc_str) >= 0:\n",
    "            cont = line.split(' ')\n",
    "            best_acc = int(cont[1])\n",
    "    return best_acc\n",
    "\n",
    "def save_best_acc(best_acc_str, best_acc):\n",
    "    with open('accuraciesSIB.txt', 'r') as f :\n",
    "        content = f.readlines()\n",
    "    exists = False\n",
    "    for i, s in enumerate(content):\n",
    "        if content[i].find(best_acc_str) >= 0:\n",
    "            content[i] = best_acc_str + ': ' + str(best_acc)\n",
    "            exists = True\n",
    "    if not exists:\n",
    "        content.append(best_acc_str + ': ' + str(best_acc) + '\\n')\n",
    "    with open('accuraciesSIB.txt', 'w') as f:\n",
    "        f.writelines(content)\n",
    "    print(content)"
   ]
  },
  {
   "cell_type": "markdown",
   "metadata": {},
   "source": [
    "#### Sziami halozat osszeallitasa"
   ]
  },
  {
   "cell_type": "code",
   "execution_count": 6,
   "metadata": {},
   "outputs": [
    {
     "name": "stderr",
     "output_type": "stream",
     "text": [
      "/Library/Frameworks/Python.framework/Versions/2.7/lib/python2.7/site-packages/ipykernel_launcher.py:17: UserWarning: The `merge` function is deprecated and will be removed after 08/2017. Use instead layers from `keras.layers.merge`, e.g. `add`, `concatenate`, etc.\n",
      "/Library/Frameworks/Python.framework/Versions/2.7/lib/python2.7/site-packages/ipykernel_launcher.py:19: UserWarning: Update your `Model` call to the Keras 2 API: `Model(outputs=Tensor(\"de..., inputs=[<tf.Tenso...)`\n"
     ]
    },
    {
     "data": {
      "text/plain": [
       "38951745"
      ]
     },
     "execution_count": 6,
     "metadata": {},
     "output_type": "execute_result"
    }
   ],
   "source": [
    "input_shape=(105, 105,1)\n",
    "left_input = Input(input_shape)\n",
    "right_input = Input(input_shape)\n",
    "\n",
    "model = Sequential()\n",
    "model.add(Conv2D(64,(10,10),activation='relu',input_shape=input_shape, kernel_initializer=W_init,kernel_regularizer=l2(2e-4)))\n",
    "model.add(MaxPooling2D())\n",
    "model.add(Conv2D(128,(7,7),activation='relu',kernel_regularizer=l2(2e-4),kernel_initializer=W_init,bias_initializer=b_init))\n",
    "model.add(MaxPooling2D())\n",
    "model.add(Conv2D(128,(4,4),activation='relu',kernel_initializer=W_init,kernel_regularizer=l2(2e-4),bias_initializer=b_init))\n",
    "model.add(MaxPooling2D())\n",
    "model.add(Conv2D(256,(4,4),activation='relu',kernel_initializer=W_init,kernel_regularizer=l2(2e-4),bias_initializer=b_init))\n",
    "model.add(Flatten())\n",
    "model.add(Dense(4096,activation=\"sigmoid\",kernel_regularizer=l2(1e-3),kernel_initializer=W_init,bias_initializer=b_init))\n",
    "\n",
    "absolute_distance = lambda x: K.abs(x[0]-x[1])\n",
    "both = merge([model(left_input),model(right_input)], mode = absolute_distance, output_shape = lambda x: x[0])\n",
    "prediction = Dense(1,activation='sigmoid',bias_initializer=b_init)(both)\n",
    "siamese_net = Model(input=[left_input,right_input],output=prediction)\n",
    "\n",
    "optimizer = Adam(0.00006)\n",
    "siamese_net.compile(loss='binary_crossentropy',optimizer=optimizer)\n",
    "siamese_net.count_params()"
   ]
  },
  {
   "cell_type": "markdown",
   "metadata": {},
   "source": [
    "#### Manager osztaly implementalasa"
   ]
  },
  {
   "cell_type": "code",
   "execution_count": 48,
   "metadata": {},
   "outputs": [],
   "source": [
    "class SiameseManager:\n",
    "    '''\n",
    "    Propertyk:\n",
    "    - n_classes: ennyi osztaly van a tanulo adathalmazban\n",
    "    - n_samples: ennyi minta van egy osztalyhoz\n",
    "    - w: a kepek szelessege (105)\n",
    "    - h: a kepek magassaga (105)\n",
    "    - data: a beolvasott adatok szeparalva tanito es tesztelo reszekre\n",
    "    '''\n",
    "    def __init__(self, path):\n",
    "        self.data = {}\n",
    "        with open(os.path.join(path,\"train_sib_full.pickle\"), \"rb\") as f:\n",
    "            (X, c) = pickle.load(f)\n",
    "            self.data[\"train\"] = X\n",
    "        with open(os.path.join(path,\"val_sib_full.pickle\"), \"rb\") as f:\n",
    "            (X, c) = pickle.load(f)\n",
    "            self.data[\"test\"] = X\n",
    "        self.n_classes,self.n_samples,self.w,self.h = self.data['train'].shape\n",
    "    \n",
    "    '''\n",
    "    A fuggveny a tanulo halmazbol batch_size mintapart valaszt ki es oszlopvektorokat alakit ki beloluk\n",
    "    A parok egyik fele megegyezo osztalybol, a masodik kulonbozo osztalybol szarmazik\n",
    "    '''\n",
    "    def get_batch(self, batch_size):\n",
    "        X = self.data['train']\n",
    "        classes = rng.choice(self.n_classes, size=(batch_size,), replace=False)\n",
    "        pairs=[np.zeros((batch_size, self.h, self.w,1)) for i in range(2)]\n",
    "        targets=np.zeros((batch_size,))\n",
    "        targets[batch_size//2:] = 1\n",
    "        for i in range(batch_size):\n",
    "            class_ = classes[i]\n",
    "            idx_1 = rng.randint(0,self.n_samples)\n",
    "            pairs[0][i,:,:,:] = X[class_,idx_1].reshape(self.w, self.h, 1)\n",
    "#             idx_2 = rng.randint(0,self.n_samples) # Omniglot eseteben ez kellene\n",
    "            idx_2 = 0 if idx_1==1 else 1 # SiblingsDB eseten\n",
    "            class_2 = class_ if i >= batch_size//2 else (class_ + rng.randint(1, self.n_classes)) % self.n_classes \n",
    "            pairs[1][i,:,:,:] = X[class_2, idx_2].reshape(self.w, self.h, 1)\n",
    "        return pairs, targets\n",
    "    \n",
    "    '''\n",
    "    A fuggveny n_imgpairs darab tesztparral ter vissza a dolgozatban ismertett rendszerben\n",
    "    '''\n",
    "    def get_test_imgpairs(self, n_imgpairs):\n",
    "        X = self.data['test']\n",
    "        n_classes,n_samples = X.shape[0],X.shape[1]\n",
    "        classes = rng.choice(range(n_classes), size=(n_imgpairs,), replace=False)\n",
    "        indicies = rng.randint(0, self.n_samples, size=(n_imgpairs,))\n",
    "        true_class = classes[0]\n",
    "        ex1,ex2 = rng.choice(n_samples, size=(2,), replace=False)\n",
    "        test_image = np.asarray([X[true_class, ex1,:,:]] * n_imgpairs).reshape(n_imgpairs, self.w, self.h, 1)\n",
    "        support_set = X[classes, indicies,:,:]\n",
    "        support_set[0,:,:] = X[true_class, ex2]\n",
    "        support_set = support_set.reshape(n_imgpairs, self.w, self.h, 1)\n",
    "        targets = np.zeros((n_imgpairs,))\n",
    "        targets[0] = 1\n",
    "        targets,test_image,support_set=shuffle(targets, test_image, support_set)\n",
    "        pairs = [test_image, support_set]\n",
    "        return pairs, targets\n",
    "    \n",
    "    '''\n",
    "    A test_oneshot n_test szamu tesztet hajt vegre a sziami halozaton, majd a szazalekos eredmenyt visszajelzi\n",
    "    '''\n",
    "    def test_oneshot(self, model, n_imgpairs, n_test):\n",
    "        n_correct = 0\n",
    "        print(\"Doing \" + str(n_test) + \" with \" + str(n_imgpairs) + \" image pairs \")\n",
    "        for i in range(0, n_test):\n",
    "            inputs, targets = self.get_test_imgpairs(n_imgpairs)\n",
    "            probs = model.predict(inputs)\n",
    "            if np.argmax(probs) == np.argmax(targets):\n",
    "                n_correct += 1\n",
    "        test_result = (100 * n_correct / n_test)\n",
    "        print(\"The TEST result is: \" + str(test_result) + \"%\")\n",
    "        return test_result"
   ]
  },
  {
   "cell_type": "markdown",
   "metadata": {},
   "source": [
    "###### Futtatasi parameterek beallitasa, SiameseManager osztaly peldanyositasa, kornyezet lementese es informaciok beolvasasa"
   ]
  },
  {
   "cell_type": "code",
   "execution_count": 50,
   "metadata": {
    "scrolled": false
   },
   "outputs": [
    {
     "name": "stdout",
     "output_type": "stream",
     "text": [
      "The best accuracy so far with this setup: 0\n"
     ]
    }
   ],
   "source": [
    "batch_size = 32\n",
    "n_imgpairs = 2\n",
    "n_test = 1\n",
    "max_iter = 1\n",
    "evaluate_every = 1\n",
    "\n",
    "manager = SiameseManager(\"\")\n",
    "best_acc_str = 'sib_full_best' + str(batch_size) + '_' + str(n_imgpairs) + '_' + str(n_test) + '_' + str(max_iter)\n",
    "best_acc = load_best_acc(best_acc_str)\n",
    "print(\"The best accuracy so far with this setup: \" + str(best_acc))\n",
    "result_number = load_obj('result_number') + 1\n",
    "results_detail = load_obj('sib_results_detail')\n",
    "results_detail[str(str(result_number) + '_' + best_acc_str)] = {'%': [], 'iteration': [], 'loss': []}"
   ]
  },
  {
   "cell_type": "markdown",
   "metadata": {},
   "source": [
    "###### Ezzel az osszeallitassal eddig best_acc volt a legjobb eredmeny, a kornyezet leirasat a best_acc_str tarolja, a reszletes eredmenyeket a results_detail, az eredmenyek szamat, pedig a result_number tartalmazza"
   ]
  },
  {
   "cell_type": "code",
   "execution_count": 51,
   "metadata": {},
   "outputs": [
    {
     "name": "stdout",
     "output_type": "stream",
     "text": [
      "sib_full_best32_2_1_1\n",
      "{'7_sib_best32_25_50_1000': {'%': [0, 0, 10, 4, 2, 2, 4, 2, 2, 6, 10, 8, 6, 8, 6, 4, 6, 8, 12, 8, 2, 12, 10, 2, 16, 4, 2, 10, 8, 12, 8, 6, 8, 8, 4, 2, 10, 18, 8, 4, 2], 'iteration': [0, 25, 50, 75, 100, 125, 150, 175, 200, 225, 250, 275, 300, 325, 350, 375, 400, 425, 450, 475, 500, 525, 550, 575, 600, 625, 650, 675, 700, 725, 750, 775, 800, 825, 850, 875, 900, 925, 950, 975, 1000], 'loss': [8.3149223, 6.9010038, 5.8805571, 5.0919342, 4.4589329, 3.9434114, 3.444129, 3.0301409, 2.6868663, 2.3709469, 2.1039548, 1.8704481, 1.7224824, 1.4966536, 1.3251293, 1.2097166, 1.0616653, 0.97349751, 0.86911505, 0.76569593, 0.71485537, 0.6352551, 0.57001913, 0.52549338, 0.46832636, 0.42366433, 0.38276154, 0.34967735, 0.31482255, 0.28569663, 0.25928563, 0.23591852, 0.21533932, 0.20347062, 0.17987517, 0.21757844, 0.19528787, 0.16879763, 0.18370979, 0.14750916, 0.14532425]}, '8_sib_eye_best32_10_50_500': {'iteration': [0, 25, 50, 75, 100, 125, 150, 175, 200, 225, 250, 275, 300, 325, 350, 375, 400, 425, 450, 475, 500], '%': [18, 26, 16, 14, 0, 6, 12, 18, 8, 8, 6, 12, 4, 12, 12, 2, 8, 16, 4, 6, 12], 'loss': [8.2981243, 6.8667097, 5.733479, 4.9448853, 4.2662749, 3.7028389, 3.2432046, 2.8190041, 2.4706719, 2.162478, 1.8922701, 1.6627924, 1.4567006, 1.2918633, 1.1456211, 0.99835372, 0.89609039, 0.78210431, 0.6983552, 0.60808849, 0.53910065]}, '6_sib_best32_25_100_200': {'iteration': [0, 20, 40, 60, 80, 100, 120, 140, 160, 180, 200], '%': [5, 12, 9, 13, 16, 7, 15, 11, 6, 8, 7], 'loss': [8.3166189, 7.1731501, 6.2835989, 5.5981617, 5.0692511, 4.5534835, 4.1132402, 3.7282548, 3.3704486, 3.0520394, 2.7754869]}, '14_sib_full_best32_2_1_1': {'iteration': [], '%': [], 'loss': []}, '10_sib_mouth_best32_10_50_500': {'iteration': [0, 25, 50, 75, 100, 125, 150, 175, 200, 225, 250, 275, 300, 325, 350, 375, 400, 425, 450, 475, 500], '%': [4, 20, 20, 26, 8, 2, 8, 12, 14, 14, 20, 16, 14, 14, 14, 18, 16, 14, 18, 28, 20], 'loss': [2.4191298, 1.4270769, 1.2513196, 0.88577938, 0.82300198, 0.73995233, 0.63068849, 0.54607219, 0.57609224, 0.54362071, 0.417862, 0.41836339, 0.34529534, 0.31669754, 0.29487538, 0.27902514, 0.25010911, 0.23432061, 0.21732341, 0.21276245, 0.18914048]}, '11_sib_eye_best32_10_50_500': {'%': [10, 20, 14, 14, 12, 26, 24, 10, 22, 8, 6, 10, 18, 16, 12, 10, 8, 20, 8, 10, 4], 'iteration': [0, 25, 50, 75, 100, 125, 150, 175, 200, 225, 250, 275, 300, 325, 350, 375, 400, 425, 450, 475, 500], 'loss': [2.5007997, 0.9028247, 0.88739181, 0.88615608, 0.87332398, 0.85160345, 0.83199644, 0.78947502, 0.74151576, 0.75432134, 0.59766465, 0.46047497, 0.26915902, 0.2165027, 0.25592285, 0.22394553, 0.31368762, 0.14575346, 0.13087913, 0.11610857, 0.12271124]}, '13_sib_full_best32_10_50_500': {'%': [24, 10, 14, 34, 36, 26, 38, 18, 36, 22, 24, 20, 28, 16, 20, 26, 34, 26, 20, 20, 20], 'iteration': [0, 25, 50, 75, 100, 125, 150, 175, 200, 225, 250, 275, 300, 325, 350, 375, 400, 425, 450, 475, 500], 'loss': [8.3187761, 6.942677, 5.9100413, 5.1592369, 4.4889174, 3.9958644, 3.5439687, 3.1137912, 2.7602024, 2.4722476, 2.2084777, 1.9770758, 1.8003041, 1.5971869, 1.4580811, 1.2984856, 1.1621586, 1.055186, 0.94617045, 0.86361796, 0.78283274]}, '12_sib_eye_best32_10_50_500': {'iteration': [0, 25, 50, 75, 100, 125, 150, 175, 200, 225, 250, 275, 300, 325, 350, 375, 400, 425, 450, 475, 500], '%': [18, 4, 22, 16, 16, 18, 30, 14, 22, 12, 18, 12, 18, 18, 14, 18, 14, 20, 24, 30, 28], 'loss': [8.3076706, 6.8635359, 5.7472506, 4.8984919, 4.2044096, 3.6508193, 3.1943836, 2.7828913, 2.4693956, 2.168962, 1.886412, 1.686716, 1.4825902, 1.3069532, 1.1697227, 1.0393078, 0.9174552, 0.82048297, 0.72817576, 0.64789307, 0.57998127]}, '5_sib_best32_10_50_101': {'%': [20, 14, 24, 14, 24, 28, 14, 14, 26, 26, 20], 'iteration': [0, 10, 20, 30, 40, 50, 60, 70, 80, 90, 100], 'loss': [46.400246, 43.11953, 40.23003, 37.450508, 34.877357, 32.467735, 30.18362, 28.027836, 26.081974, 24.242615, 22.625195]}, '9_sib_nose_best32_10_50_500': {'%': [18, 20, 14, 18, 22, 22, 12, 14, 22, 22, 26, 18, 26, 16, 22, 14, 24, 16, 24, 12, 16], 'iteration': [0, 25, 50, 75, 100, 125, 150, 175, 200, 225, 250, 275, 300, 325, 350, 375, 400, 425, 450, 475, 500], 'loss': [7.2168908, 5.6305866, 4.3757744, 3.5041003, 2.951396, 2.5085785, 2.199821, 1.8462458, 1.6161294, 1.4166117, 1.24101, 1.0923204, 0.97326601, 0.8576237, 0.77644265, 0.69017375, 0.61298031, 0.53712225, 0.49931577, 0.46572205, 0.43368208]}}\n",
      "14\n"
     ]
    }
   ],
   "source": [
    "print(best_acc_str)\n",
    "print(results_detail)\n",
    "print(result_number)"
   ]
  },
  {
   "cell_type": "markdown",
   "metadata": {},
   "source": [
    "### A halozat tanitasa es tesztelese\n",
    "\n",
    "A szakdolgozatomban ismertett modon tanitjuk es teszteljuk a halozatot"
   ]
  },
  {
   "cell_type": "code",
   "execution_count": 54,
   "metadata": {
    "scrolled": true
   },
   "outputs": [
    {
     "name": "stdout",
     "output_type": "stream",
     "text": [
      "Doing 1 with 2 image pairs \n",
      "The TEST result is: 100%\n",
      "The best parameters are saved\n",
      "Iteration number: 0 Training loss: 7.746\n",
      "Doing 1 with 2 image pairs \n",
      "The TEST result is: 0%\n",
      "Iteration number: 1 Training loss: 7.77252\n",
      "The BEST accuracy is: 100\n"
     ]
    }
   ],
   "source": [
    "# siamese_net.load_weights(best_acc_str)\n",
    "\n",
    "for i in range(0, max_iter + 1):\n",
    "    (inputs, targets) = manager.get_batch(batch_size)\n",
    "    loss = siamese_net.train_on_batch(inputs, targets)\n",
    "    if i % evaluate_every == 0:\n",
    "        test_acc = manager.test_oneshot(siamese_net, n_imgpairs, n_test)\n",
    "        results_detail[str(result_number) + '_' + best_acc_str]['%'].append(test_acc)\n",
    "        results_detail[str(result_number) + '_' + best_acc_str]['iteration'].append(i)\n",
    "        results_detail[str(result_number) + '_' + best_acc_str]['loss'].append(loss)\n",
    "        if test_acc >= best_acc:\n",
    "            siamese_net.save(best_acc_str) \n",
    "            print(\"The best parameters are saved\")\n",
    "            best_acc = test_acc\n",
    "        print(\"Iteration number: \" + str(i) + \" Training loss: \" + str(loss))      \n",
    "print(\"The BEST accuracy is: \" + str(best_acc))"
   ]
  },
  {
   "cell_type": "markdown",
   "metadata": {},
   "source": [
    "### A kovetkezo kodot CSAK akkor erdemes futtatni, ha elszeretnenk menteni a futast"
   ]
  },
  {
   "cell_type": "code",
   "execution_count": 175,
   "metadata": {
    "scrolled": true
   },
   "outputs": [
    {
     "name": "stdout",
     "output_type": "stream",
     "text": [
      "['BEST_ACC64_25_50: 72\\n', 'BEST_ACC32_25_550: 54\\n', 'BEST_ACC32_25_50: 44\\n', 'BEST_ACC64_50_250: 47\\n', 'sib_best32_10_50_101: 28\\n', 'sib_best32_25_100_200: 16\\n', 'sib_best32_25_50_1000: 18\\n', 'sib_eye_best32_10_50_500: 30\\n', 'sib_nose_best32_10_50_500: 26\\n', 'sib_mouth_best32_10_50_500: 28\\n', 'sib_full_best32_10_50_500: 38\\n']\n"
     ]
    }
   ],
   "source": [
    "save_obj(results_detail, 'sib_results_detail')\n",
    "save_obj(result_number, 'result_number')\n",
    "save_best_acc(best_acc_str, best_acc)"
   ]
  },
  {
   "cell_type": "markdown",
   "metadata": {},
   "source": [
    "#### A lentebbi fuggvenyek az eredmenyek kiertekelesehez kellettek"
   ]
  },
  {
   "cell_type": "code",
   "execution_count": 284,
   "metadata": {
    "scrolled": true
   },
   "outputs": [
    {
     "data": {
      "image/png": "[encoded data removed]",
      "text/plain": [
       "<matplotlib.figure.Figure at 0x12ff5b6d0>"
      ]
     },
     "metadata": {},
     "output_type": "display_data"
    }
   ],
   "source": [
    "import matplotlib.pyplot as plt\n",
    "\n",
    "plt.plot(results_detail['13_sib_full_best32_10_50_500']['iteration'], results_detail['13_sib_full_best32_10_50_500']['%'],'b-',\n",
    "         results_detail['8_sib_eye_best32_10_50_500']['iteration'], results_detail['8_sib_eye_best32_10_50_500']['%'],'g-',\n",
    "        results_detail['9_sib_nose_best32_10_50_500']['iteration'], results_detail['9_sib_nose_best32_10_50_500']['%'],'y-',\n",
    "        results_detail['10_sib_mouth_best32_10_50_500']['iteration'], results_detail['10_sib_mouth_best32_10_50_500']['%'],'r-')\n",
    "plt.ylabel('% Accuracy')\n",
    "plt.xlabel('Number of iterations')\n",
    "plt.grid(True)\n",
    "# plt.text(150, 9, 'n_imgpairs=25\\nn_test=100', color='green', fontsize='12')\n",
    "# plt.text(110, 21, 'n_imgpairs=10\\nn_test=50', color='blue', fontsize='12')\n",
    "plt.show()"
   ]
  },
  {
   "cell_type": "code",
   "execution_count": 273,
   "metadata": {},
   "outputs": [],
   "source": [
    "def create_table(base_path):\n",
    "    columns = ['Family1', 'Family2','Person1', 'Person2', 'full', 'eye', 'nose', 'mouth']\n",
    "    indices = [int(family) for family in os.listdir(base_path)]\n",
    "    df = pd.DataFrame(columns=columns)\n",
    "\n",
    "    iteration = 0\n",
    "    for family in os.listdir(base_path):\n",
    "        for i in range(0,2):\n",
    "            Family1 = int(family)\n",
    "            if iteration % 2 == 1:\n",
    "                Family2 = int(family)\n",
    "            else:\n",
    "                Family2 = int(family)\n",
    "                while Family2 == int(family):\n",
    "                    Family2 = int(indices[rng.randint(0,84)])\n",
    "\n",
    "            family_path = os.path.join(base_path, family)\n",
    "            person_num = 0\n",
    "            for person in os.listdir(family_path):\n",
    "                if '.jpg' in person and person_num == 0:\n",
    "                    Person1 = person\n",
    "                    person_num += 1\n",
    "                elif '.jpg' in person and person_num == 1:\n",
    "                    Person2 = person\n",
    "                    person_num += 1\n",
    "\n",
    "            if iteration % 2 == 0:\n",
    "                for person in os.listdir(os.path.join(base_path, str(Family2))):\n",
    "                    if '.jpg' in person:\n",
    "                        Person2 = person\n",
    "                        break\n",
    "            iteration += 1\n",
    "            df.loc[-1] = [Family1, Family2, Person1, Person2, '', '', '', '']\n",
    "            df.index = df.index + 1  # shifting index\n",
    "            df = df.sort_index()\n",
    "\n",
    "    df['index'] = df.index\n",
    "    df = df.sort_values(['Family1', 'index'])\n",
    "    del df['index']\n",
    "    df = df.reset_index(drop=True)\n",
    "    return df"
   ]
  },
  {
   "cell_type": "code",
   "execution_count": 285,
   "metadata": {
    "scrolled": true
   },
   "outputs": [
    {
     "name": "stdout",
     "output_type": "stream",
     "text": [
      "     Family1  Family2       Person1         Person2   full    eye   nose  \\\n",
      "0          1        1  _DSC5751.jpg  _DSC5755_1.jpg  0.971  0.995  0.988   \n",
      "1          1      218  _DSC5751.jpg    _DSC2232.jpg  0.000  0.016  0.000   \n",
      "2          5        5  _DSC5763.jpg    _DSC5760.jpg  0.861  0.992  0.989   \n",
      "3          5      194  _DSC5763.jpg         195.jpg  0.009  0.000  0.000   \n",
      "4          7        7  _DSC5769.jpg    _DSC5774.jpg  0.933  0.998  0.993   \n",
      "5          7      185  _DSC5769.jpg    _DSC0751.jpg  0.009  0.001  0.000   \n",
      "6          9        9  _DSC5804.jpg    _DSC5792.jpg  0.961  0.997  0.990   \n",
      "7          9       62  _DSC5804.jpg    _DSC9913.jpg  0.000  0.000  0.000   \n",
      "8         13       13  _DSC5818.jpg    _DSC5826.jpg  0.903  0.993  0.994   \n",
      "9         13        7  _DSC5818.jpg    _DSC5769.jpg  0.073  0.007  0.008   \n",
      "10        15       15  _DSC5850.jpg    _DSC5843.jpg  0.946  0.994  0.987   \n",
      "11        15      150  _DSC5850.jpg    _DSC0572.jpg  0.001  0.000  0.000   \n",
      "12        17       17  _DSC5854.jpg         018.jpg  0.884  0.999  0.994   \n",
      "13        17       72  _DSC5854.jpg    _DSC9974.jpg  0.000  0.002  0.000   \n",
      "14        19       19  _DSC5859.jpg         021.jpg  0.952  0.999  0.993   \n",
      "15        19        5  _DSC5859.jpg    _DSC5763.jpg  0.119  0.001  0.001   \n",
      "16        23       23  _DSC5872.jpg    _DSC5863.jpg  0.910  0.997  0.987   \n",
      "17        23      163  _DSC5872.jpg    _DSC0641.jpg  0.004  0.002  0.001   \n",
      "18        27       27  _DSC5885.jpg    _DSC5881.jpg  0.930  0.990  0.977   \n",
      "19        27      248  _DSC5885.jpg    _DSC2992.jpg  0.001  0.000  0.003   \n",
      "20        31       31  _DSC5911.jpg    _DSC5905.jpg  0.871  0.988  0.987   \n",
      "21        31      128  _DSC5911.jpg    _DSC0362.jpg  0.011  0.000  0.012   \n",
      "22        35       35  _DSC5900.jpg    _DSC5896.jpg  0.955  0.996  0.875   \n",
      "23        35      262  _DSC5900.jpg    _DSC3056.jpg  0.069  0.004  0.000   \n",
      "24        39       39  _DSC5924.jpg    _DSC5919.jpg  0.944  0.988  0.990   \n",
      "25        39       27  _DSC5924.jpg    _DSC5885.jpg  0.000  0.000  0.001   \n",
      "26        41       41  _DSC5928.jpg    _DSC5937.jpg  0.948  0.995  0.987   \n",
      "27        41      137  _DSC5928.jpg    _DSC0452.jpg  0.016  0.080  0.000   \n",
      "28        43       43  _DSC5948.jpg    _DSC5942.jpg  0.955  0.995  0.915   \n",
      "29        43      122  _DSC5948.jpg    _DSC0302.jpg  0.077  0.009  0.000   \n",
      "..       ...      ...           ...             ...    ...    ...    ...   \n",
      "138      212      212  _DSC2175.jpg    _DSC2184.jpg  0.477  0.004  0.187   \n",
      "139      212       91  _DSC2175.jpg    _DSC0099.jpg  0.091  0.001  0.000   \n",
      "140      216      216  _DSC2217.jpg    _DSC2209.jpg  0.187  0.016  0.006   \n",
      "141      216      173  _DSC2217.jpg         176.jpg  0.008  0.004  0.000   \n",
      "142      218      218  _DSC2232.jpg    _DSC2223.jpg  0.366  0.251  0.131   \n",
      "143      218      141  _DSC2232.jpg    _DSC0527.jpg  0.024  0.015  0.005   \n",
      "144      220      220  _DSC2248.jpg    _DSC2256.jpg  0.355  0.003  0.204   \n",
      "145      220      104  _DSC2248.jpg    _DSC0195.jpg  0.010  0.000  0.020   \n",
      "146      226      226  _DSC2305.jpg    _DSC2297.jpg  0.157  0.000  0.000   \n",
      "147      226      177  _DSC2305.jpg    _DSC0707.jpg  0.209  0.066  0.065   \n",
      "148      228      228  _DSC2891.jpg    _DSC2898.jpg  0.171  0.000  0.095   \n",
      "149      228      141  _DSC2891.jpg    _DSC0527.jpg  0.046  0.003  0.000   \n",
      "150      230      230       230.jpg         231.jpg  0.139  0.012  0.000   \n",
      "151      230      183       230.jpg    _DSC0729.jpg  0.050  0.012  0.027   \n",
      "152      236      236  _DSC2922.jpg    _DSC2913.jpg  0.410  0.002  0.000   \n",
      "153      236      163  _DSC2922.jpg    _DSC0641.jpg  0.140  0.030  0.002   \n",
      "154      246      246  _DSC2982.jpg    _DSC2966.jpg  0.090  0.000  0.000   \n",
      "155      246        9  _DSC2982.jpg    _DSC5804.jpg  0.002  0.000  0.000   \n",
      "156      248      248  _DSC2992.jpg    _DSC3002.jpg  0.253  0.059  0.155   \n",
      "157      248      250  _DSC2992.jpg    _DSC3023.jpg  0.483  0.000  0.035   \n",
      "158      250      250  _DSC3023.jpg    _DSC3013.jpg  0.370  0.005  0.164   \n",
      "159      250      160  _DSC3023.jpg         160.jpg  0.003  0.041  0.019   \n",
      "160      254      254  _DSC3036.jpg    _DSC3048.jpg  0.138  0.402  0.350   \n",
      "161      254      122  _DSC3036.jpg    _DSC0302.jpg  0.040  0.005  0.089   \n",
      "162      256      256       260.jpg         261.jpg  0.646  0.004  0.017   \n",
      "163      256      236       260.jpg    _DSC2922.jpg  0.004  0.000  0.001   \n",
      "164      262      262  _DSC3056.jpg         263.jpg  0.000  0.002  0.002   \n",
      "165      262       84  _DSC3056.jpg    _DSC0041.jpg  0.071  0.006  0.010   \n",
      "166      266      266  _DSC3067.jpg    _DSC3088.jpg  0.246  0.003  0.003   \n",
      "167      266      201  _DSC3067.jpg    _DSC0852.jpg  0.080  0.000  0.095   \n",
      "\n",
      "     mouth  \n",
      "0    0.993  \n",
      "1    0.000  \n",
      "2    0.986  \n",
      "3    0.001  \n",
      "4    0.987  \n",
      "5    0.000  \n",
      "6    0.966  \n",
      "7    0.000  \n",
      "8    0.990  \n",
      "9    0.000  \n",
      "10   0.988  \n",
      "11   0.000  \n",
      "12   0.913  \n",
      "13   0.000  \n",
      "14   0.993  \n",
      "15   0.000  \n",
      "16   0.907  \n",
      "17   0.000  \n",
      "18   0.992  \n",
      "19   0.003  \n",
      "20   0.983  \n",
      "21   0.000  \n",
      "22   0.981  \n",
      "23   0.000  \n",
      "24   0.985  \n",
      "25   0.004  \n",
      "26   0.956  \n",
      "27   0.000  \n",
      "28   0.989  \n",
      "29   0.000  \n",
      "..     ...  \n",
      "138  0.312  \n",
      "139  0.002  \n",
      "140  0.002  \n",
      "141  0.001  \n",
      "142  0.452  \n",
      "143  0.000  \n",
      "144  0.376  \n",
      "145  0.028  \n",
      "146  0.001  \n",
      "147  0.004  \n",
      "148  0.000  \n",
      "149  0.000  \n",
      "150  0.283  \n",
      "151  0.167  \n",
      "152  0.001  \n",
      "153  0.000  \n",
      "154  0.001  \n",
      "155  0.000  \n",
      "156  0.008  \n",
      "157  0.000  \n",
      "158  0.000  \n",
      "159  0.005  \n",
      "160  0.419  \n",
      "161  0.110  \n",
      "162  0.007  \n",
      "163  0.002  \n",
      "164  0.000  \n",
      "165  0.168  \n",
      "166  0.000  \n",
      "167  0.009  \n",
      "\n",
      "[168 rows x 8 columns]\n"
     ]
    }
   ],
   "source": [
    "import pandas as pd\n",
    "from PIL import Image\n",
    "import os\n",
    "import sys\n",
    "\n",
    "SIGNAL = 'mouth'\n",
    "NETWORK = 'sib_mouth_best32_10_50_500'\n",
    "base_path = 'SiblingsDB/DBs/HQf_withPairs'\n",
    "\n",
    "# df = create_table(base_path)\n",
    "siamese_net.load_weights(NETWORK)\n",
    "df = pd.read_csv('prediction_table.csv', index_col=0)\n",
    "\n",
    "for index, row in df.iterrows():\n",
    "    input1_path = os.path.join(base_path, str(row['Family1']), row['Person1'].split('.jpg')[0] + SIGNAL + '.jpeg')\n",
    "    input2_path = os.path.join(base_path, str(row['Family2']), row['Person2'].split('.jpg')[0] + SIGNAL + '.jpeg')\n",
    "    input1 = np.array(Image.open(input1_path)).reshape(1,105,105,1)\n",
    "    input2 = np.array(Image.open(input2_path)).reshape(1,105,105,1)\n",
    "    df.set_value(index, SIGNAL, round(siamese_net.predict([input1, input2]), 3))\n",
    "                \n",
    "df.to_csv('prediction_table.csv', sep=';')\n",
    "print(df)\n",
    "\n"
   ]
  },
  {
   "cell_type": "code",
   "execution_count": null,
   "metadata": {},
   "outputs": [],
   "source": []
  }
 ],
 "metadata": {
  "kernelspec": {
   "display_name": "Python 2",
   "language": "python",
   "name": "python2"
  },
  "language_info": {
   "codemirror_mode": {
    "name": "ipython",
    "version": 2
   },
   "file_extension": ".py",
   "mimetype": "text/x-python",
   "name": "python",
   "nbconvert_exporter": "python",
   "pygments_lexer": "ipython2",
   "version": "2.7.13"
  }
 },
 "nbformat": 4,
 "nbformat_minor": 2
}
