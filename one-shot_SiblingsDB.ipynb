{
 "cells": [
  {
   "cell_type": "code",
   "execution_count": 9,
   "metadata": {},
   "outputs": [],
   "source": [
    "from keras.layers import Input, Conv2D, Lambda, merge, Dense, Flatten,MaxPooling2D, Dropout\n",
    "from keras.models import Model, Sequential\n",
    "from keras.regularizers import l2\n",
    "from keras import backend as K\n",
    "from keras.optimizers import SGD,Adam\n",
    "from keras.losses import binary_crossentropy\n",
    "import numpy.random as rng\n",
    "import numpy as np\n",
    "import os\n",
    "import dill as pickle\n",
    "import matplotlib.pyplot as plt\n",
    "from sklearn.utils import shuffle"
   ]
  },
  {
   "cell_type": "code",
   "execution_count": 13,
   "metadata": {},
   "outputs": [],
   "source": [
    "def W_init(shape, name=None):\n",
    "    values = rng.normal(loc=0, scale=1e-2,size=shape)\n",
    "    return K.variable(values, name=name)\n",
    "def b_init(shape, name=None):\n",
    "    values=rng.normal(loc=0.5,scale=1e-2,size=shape)\n",
    "    return K.variable(values,name=name)\n",
    "\n",
    "def save_obj(obj, name):\n",
    "    with open(name + '.pkl', 'wb') as f:\n",
    "        pickle.dump(obj, f, pickle.HIGHEST_PROTOCOL)\n",
    "        \n",
    "def load_obj(name):\n",
    "    with open(name + '.pkl', 'rb') as f:\n",
    "        return pickle.load(f)\n",
    "\n",
    "def load_best_acc(best_acc_str):\n",
    "    with open('accuracies.txt') as f:\n",
    "        content = f.readlines()\n",
    "    best_acc = 0\n",
    "    for line in content:\n",
    "        if line.find(best_acc_str) >= 0:\n",
    "            cont = line.split(' ')\n",
    "            best_acc = int(cont[1])\n",
    "    return best_acc\n",
    "\n",
    "def save_best_acc(best_acc_str, best_acc):\n",
    "    with open('accuracies.txt', 'r') as f :\n",
    "        content = f.readlines()\n",
    "\n",
    "    exists = False\n",
    "    for i, s in enumerate(content):\n",
    "        if content[i].find(best_acc_str) >= 0:\n",
    "            content[i] = best_acc_str + ': ' + str(best_acc)\n",
    "            exists = True\n",
    "\n",
    "    if not exists:\n",
    "        content.append(best_acc_str + ': ' + str(best_acc) + '\\n')\n",
    "\n",
    "    with open('accuraciesSIB.txt', 'w') as f:\n",
    "        f.writelines(content)\n",
    "    print(content)"
   ]
  },
  {
   "cell_type": "code",
   "execution_count": 11,
   "metadata": {},
   "outputs": [
    {
     "name": "stderr",
     "output_type": "stream",
     "text": [
      "/Library/Frameworks/Python.framework/Versions/2.7/lib/python2.7/site-packages/ipykernel_launcher.py:22: UserWarning: The `merge` function is deprecated and will be removed after 08/2017. Use instead layers from `keras.layers.merge`, e.g. `add`, `concatenate`, etc.\n",
      "/Library/Frameworks/Python.framework/Versions/2.7/lib/python2.7/site-packages/ipykernel_launcher.py:24: UserWarning: Update your `Model` call to the Keras 2 API: `Model(outputs=Tensor(\"de..., inputs=[<tf.Tenso...)`\n"
     ]
    },
    {
     "data": {
      "text/plain": [
       "237132609"
      ]
     },
     "execution_count": 11,
     "metadata": {},
     "output_type": "execute_result"
    }
   ],
   "source": [
    "input_shape=(177, 177,1)\n",
    "left_input = Input(input_shape)\n",
    "right_input = Input(input_shape)\n",
    "\n",
    "model = Sequential()\n",
    "model.add(Conv2D(64,(10,10),activation='relu',input_shape=input_shape,\n",
    "                   kernel_initializer=W_init,kernel_regularizer=l2(2e-4)))\n",
    "model.add(MaxPooling2D())\n",
    "model.add(Conv2D(128,(7,7),activation='relu',\n",
    "                   kernel_regularizer=l2(2e-4),kernel_initializer=W_init,bias_initializer=b_init))\n",
    "model.add(MaxPooling2D())\n",
    "model.add(Conv2D(128,(4,4),activation='relu',kernel_initializer=W_init,kernel_regularizer=l2(2e-4),bias_initializer=b_init))\n",
    "model.add(MaxPooling2D())\n",
    "model.add(Conv2D(256,(4,4),activation='relu',kernel_initializer=W_init,kernel_regularizer=l2(2e-4),bias_initializer=b_init))\n",
    "model.add(Flatten())\n",
    "model.add(Dense(4096,activation=\"sigmoid\",kernel_regularizer=l2(1e-3),kernel_initializer=W_init,bias_initializer=b_init))\n",
    "\n",
    "encoded_l = model(left_input)\n",
    "encoded_r = model(right_input)\n",
    "\n",
    "L1_dist = lambda x: K.abs(x[0]-x[1])\n",
    "both = merge([encoded_l,encoded_r], mode = L1_dist, output_shape = lambda x: x[0])\n",
    "prediction = Dense(1,activation='sigmoid',bias_initializer=b_init)(both)\n",
    "siamese_net = Model(input=[left_input,right_input],output=prediction)\n",
    "\n",
    "optimizer = Adam(0.00006)\n",
    "siamese_net.compile(loss='binary_crossentropy',optimizer=optimizer)\n",
    "\n",
    "siamese_net.count_params()\n"
   ]
  },
  {
   "cell_type": "code",
   "execution_count": 26,
   "metadata": {},
   "outputs": [],
   "source": [
    "class Siamese_Loader:\n",
    "    def __init__(self,path):\n",
    "        self.data = {}\n",
    "        self.classes = {}\n",
    "        with open(os.path.join(path,\"trainSib2.pickle\"), \"rb\") as f:\n",
    "            (X,c) = pickle.load(f)\n",
    "            self.data[\"train\"] = X\n",
    "            self.classes[\"train\"] = c\n",
    "        with open(os.path.join(path,\"valSib2.pickle\"), \"rb\") as f:\n",
    "            (X,c) = pickle.load(f)\n",
    "            self.data[\"val\"] = X\n",
    "            self.classes[\"val\"] = c\n",
    "        self.n_classes,self.n_examples,self.w,self.h = self.data['train'].shape\n",
    "#         n_classes: ennyi betu van a tanulo adatban (964)\n",
    "#         n_examples: egy betuhoz 20 minta tartozik\n",
    "#         w: a kepek szelessege (105)\n",
    "#         h: a kepek magassaga (105)\n",
    "        self.n_val,self.n_ex,_,_ = self.data['val'].shape\n",
    "    \n",
    "    '''Oszlopvektorokat alakit ki a kepekbol\n",
    "    - a parok masodik fele megegyezo osztalybol az elso fele kulonbozo osztalybol szarmazik\n",
    "    '''\n",
    "    def get_batch(self,n,s='train'):\n",
    "        X=self.data[s]\n",
    "        classes=rng.choice(self.n_classes,size=(n,),replace=False)\n",
    "        pairs=[np.zeros((n,self.h,self.w,1)) for i in range(2)]\n",
    "        targets=np.zeros((n,))\n",
    "        targets[n//2:] = 1\n",
    "        for i in range(n):\n",
    "            class_ = classes[i]\n",
    "            idx_1 = rng.randint(0,self.n_examples)\n",
    "            pairs[0][i,:,:,:] = X[class_,idx_1].reshape(self.w,self.h,1)\n",
    "#             idx_2 = rng.randint(0,self.n_examples)\n",
    "            idx_2 = 0 if idx_1==1 else 1\n",
    "            class_2 = class_ if i >= n//2 else (class_ + rng.randint(1,self.n_classes)) % self.n_classes \n",
    "            pairs[1][i,:,:,:] = X[class_2,idx_2].reshape(self.w,self.h,1)\n",
    "        return pairs, targets\n",
    "    \n",
    "    def do_oneshot_task(self, N,s='val'):\n",
    "        X = self.data[s]\n",
    "        n_classes,n_examples = X.shape[0],X.shape[1]\n",
    "        \n",
    "        classes = rng.choice(range(n_classes),size=(N,),replace=False)\n",
    "        indicies = rng.randint(0,self.n_examples,size=(N,))\n",
    "       \n",
    "        true_class = classes[0]\n",
    "        ex1,ex2 = rng.choice(n_examples,size=(2,),replace=False)\n",
    "#         A teszt kepet lemasoljuk sokszor, hogy a siamese halo egyik agara mindig ezt tegyuk \n",
    "        test_image = np.asarray([X[true_class,ex1,:,:]]*N).reshape(N,self.w,self.h,1)\n",
    "        support_set = X[classes,indicies,:,:]\n",
    "        support_set[0,:,:] = X[true_class,ex2]\n",
    "        support_set = support_set.reshape(N,self.w,self.h,1)\n",
    "        targets = np.zeros((N,))\n",
    "        targets[0] = 1\n",
    "        targets,test_image,support_set=shuffle(targets,test_image,support_set)\n",
    "        pairs = [test_image,support_set]\n",
    "        return pairs, targets\n",
    "    \n",
    "    '''Az N azt mondja meg, hogy egy kepet hany masikkal vizsgalunk meg'''\n",
    "    '''A k azt mondja meg, hogy hanyszor teszteljuk a halot \"hany one shot feladatot vegezzunk el\"'''\n",
    "    def test_oneshot(self,model,N,k,s='val',verbose=0):\n",
    "        n_correct = 0\n",
    "        if verbose:\n",
    "            print(\"Evaluating model on {} unique {} way one-shot learning tasks ...\".format(k,N))\n",
    "        for i in range(k):\n",
    "            inputs,targets = self.do_oneshot_task(N,s)\n",
    "            probs = model.predict(inputs)\n",
    "            if np.argmax(probs) == np.argmax(targets):\n",
    "                n_correct+=1\n",
    "        percent_correct = (100*n_correct / k)\n",
    "        if verbose:\n",
    "            print(\"Got an avarage of {}% {} way one-shot learning accuracy\".format(percent_correct,N))\n",
    "        return percent_correct\n",
    "\n",
    "loader = Siamese_Loader(\"\")"
   ]
  },
  {
   "cell_type": "code",
   "execution_count": 27,
   "metadata": {
    "scrolled": false
   },
   "outputs": [
    {
     "name": "stdout",
     "output_type": "stream",
     "text": [
      "The best accuracy so far with this setup: 0\n"
     ]
    }
   ],
   "source": [
    "evaluate_every = 10\n",
    "batch_size = 32\n",
    "N_way = 10\n",
    "n_val = 50\n",
    "max_iter = 101\n",
    "\n",
    "best_acc_str = 'sib_best' + str(batch_size) + '_' + str(N_way) + '_' + str(n_val) + '_' + str(max_iter)\n",
    "best_acc = load_best_acc(best_acc_str)\n",
    "print(\"The best accuracy so far with this setup: {}\".format(best_acc))\n",
    "result_number = load_obj('result_number') + 1\n",
    "# results_detail = {}\n",
    "results_detail = load_obj('sib_results_detail')\n",
    "results_detail[str(str(result_number) + '_' + best_acc_str)] = {'%': [], 'iteration': [], 'loss': []}"
   ]
  },
  {
   "cell_type": "code",
   "execution_count": 28,
   "metadata": {},
   "outputs": [
    {
     "name": "stdout",
     "output_type": "stream",
     "text": [
      "sib_best32_10_50_101\n",
      "{'5_sib_best32_10_50_101': {'iteration': [], '%': [], 'loss': []}}\n",
      "5\n"
     ]
    }
   ],
   "source": [
    "print(best_acc_str)\n",
    "print(results_detail)\n",
    "print(result_number)"
   ]
  },
  {
   "cell_type": "code",
   "execution_count": 30,
   "metadata": {},
   "outputs": [
    {
     "name": "stdout",
     "output_type": "stream",
     "text": [
      "Evaluating model on 50 unique 10 way one-shot learning tasks ...\n",
      "Got an avarage of 20% 10 way one-shot learning accuracy\n",
      "SAVING...\n",
      "Iteration 0, training loss: 46.40,\n",
      "Evaluating model on 50 unique 10 way one-shot learning tasks ...\n",
      "Got an avarage of 14% 10 way one-shot learning accuracy\n",
      "Iteration 10, training loss: 43.12,\n",
      "Evaluating model on 50 unique 10 way one-shot learning tasks ...\n",
      "Got an avarage of 24% 10 way one-shot learning accuracy\n",
      "SAVING...\n",
      "Iteration 20, training loss: 40.23,\n",
      "Evaluating model on 50 unique 10 way one-shot learning tasks ...\n",
      "Got an avarage of 14% 10 way one-shot learning accuracy\n",
      "Iteration 30, training loss: 37.45,\n",
      "Evaluating model on 50 unique 10 way one-shot learning tasks ...\n",
      "Got an avarage of 24% 10 way one-shot learning accuracy\n",
      "SAVING...\n",
      "Iteration 40, training loss: 34.88,\n",
      "Evaluating model on 50 unique 10 way one-shot learning tasks ...\n",
      "Got an avarage of 28% 10 way one-shot learning accuracy\n",
      "SAVING...\n",
      "Iteration 50, training loss: 32.47,\n",
      "Evaluating model on 50 unique 10 way one-shot learning tasks ...\n",
      "Got an avarage of 14% 10 way one-shot learning accuracy\n",
      "Iteration 60, training loss: 30.18,\n",
      "Evaluating model on 50 unique 10 way one-shot learning tasks ...\n",
      "Got an avarage of 14% 10 way one-shot learning accuracy\n",
      "Iteration 70, training loss: 28.03,\n",
      "Evaluating model on 50 unique 10 way one-shot learning tasks ...\n",
      "Got an avarage of 26% 10 way one-shot learning accuracy\n",
      "Iteration 80, training loss: 26.08,\n",
      "Evaluating model on 50 unique 10 way one-shot learning tasks ...\n",
      "Got an avarage of 26% 10 way one-shot learning accuracy\n",
      "Iteration 90, training loss: 24.24,\n",
      "Evaluating model on 50 unique 10 way one-shot learning tasks ...\n",
      "Got an avarage of 20% 10 way one-shot learning accuracy\n",
      "Iteration 100, training loss: 22.63,\n"
     ]
    }
   ],
   "source": [
    "# siamese_net.load_weights(\"\" + best_acc_str)\n",
    "\n",
    "for i in range(0, max_iter):\n",
    "    (inputs,targets) = loader.get_batch(batch_size)\n",
    "    loss = siamese_net.train_on_batch(inputs,targets)\n",
    "    if i % evaluate_every == 0:\n",
    "        val_acc = loader.test_oneshot(siamese_net,N_way,n_val,verbose=True)\n",
    "        results_detail[str(result_number) + '_' + best_acc_str]['%'].append(val_acc)\n",
    "        results_detail[str(result_number) + '_' + best_acc_str]['iteration'].append(i)\n",
    "        results_detail[str(result_number) + '_' + best_acc_str]['loss'].append(loss)\n",
    "        if val_acc >= best_acc:\n",
    "            print(\"SAVING...\")\n",
    "            siamese_net.save('' + best_acc_str) \n",
    "            best_acc = val_acc\n",
    "        print(\"Iteration {}, training loss: {:.2f},\".format(i,loss))           "
   ]
  },
  {
   "cell_type": "code",
   "execution_count": 31,
   "metadata": {},
   "outputs": [
    {
     "name": "stdout",
     "output_type": "stream",
     "text": [
      "{'5_sib_best32_10_50_101': {'iteration': [0, 10, 20, 30, 40, 50, 60, 70, 80, 90, 100], '%': [20, 14, 24, 14, 24, 28, 14, 14, 26, 26, 20], 'loss': [46.400246, 43.11953, 40.23003, 37.450508, 34.877357, 32.467735, 30.18362, 28.027836, 26.081974, 24.242615, 22.625195]}}\n"
     ]
    }
   ],
   "source": [
    "print(results_detail)"
   ]
  },
  {
   "cell_type": "code",
   "execution_count": 32,
   "metadata": {},
   "outputs": [
    {
     "name": "stdout",
     "output_type": "stream",
     "text": [
      "28\n"
     ]
    }
   ],
   "source": [
    "print(best_acc)"
   ]
  },
  {
   "cell_type": "markdown",
   "metadata": {},
   "source": [
    "### Run only if you want to SAVE the learning results"
   ]
  },
  {
   "cell_type": "code",
   "execution_count": 33,
   "metadata": {},
   "outputs": [
    {
     "name": "stdout",
     "output_type": "stream",
     "text": [
      "['BEST_ACC64_25_50: 72\\n', 'BEST_ACC32_25_550: 54\\n', 'BEST_ACC32_25_50: 44\\n', 'BEST_ACC64_50_250: 47\\n', 'sib_best32_10_50_101: 28\\n']\n"
     ]
    }
   ],
   "source": [
    "save_obj(results_detail, 'sib_results_detail')\n",
    "save_obj(result_number, 'result_number')\n",
    "save_best_acc(best_acc_str, best_acc)"
   ]
  },
  {
   "cell_type": "code",
   "execution_count": 35,
   "metadata": {},
   "outputs": [
    {
     "data": {
      "image/png": "[encoded data removed]",
      "text/plain": [
       "<matplotlib.figure.Figure at 0x116b7c990>"
      ]
     },
     "metadata": {},
     "output_type": "display_data"
    },
    {
     "data": {
      "image/png": "[encoded data removed]",
      "text/plain": [
       "<matplotlib.figure.Figure at 0x116b7c890>"
      ]
     },
     "metadata": {},
     "output_type": "display_data"
    }
   ],
   "source": [
    "import matplotlib.pyplot as plt\n",
    "\n",
    "fig = plt.figure()\n",
    "ax = fig.add_subplot(111)\n",
    "\n",
    "plt.plot(results_detail['5_sib_best32_10_50_101']['iteration'], results_detail['5_sib_best32_10_50_101']['%'])\n",
    "plt.ylabel('% Accuracy')\n",
    "plt.xlabel('Number of iterations')\n",
    "plt.show()"
   ]
  },
  {
   "cell_type": "code",
   "execution_count": null,
   "metadata": {},
   "outputs": [],
   "source": []
  }
 ],
 "metadata": {
  "kernelspec": {
   "display_name": "Python 2",
   "language": "python",
   "name": "python2"
  },
  "language_info": {
   "codemirror_mode": {
    "name": "ipython",
    "version": 2
   },
   "file_extension": ".py",
   "mimetype": "text/x-python",
   "name": "python",
   "nbconvert_exporter": "python",
   "pygments_lexer": "ipython2",
   "version": "2.7.13"
  }
 },
 "nbformat": 4,
 "nbformat_minor": 2
}
